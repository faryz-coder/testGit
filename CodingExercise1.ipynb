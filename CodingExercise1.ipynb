{
 "cells": [
  {
   "cell_type": "markdown",
   "metadata": {},
   "source": [
    "## Exercise 1: Bottle Deposits\n",
    "\n",
    "In many jurisdictions a small deposit is added to drink containers to encourage people to recycle them. In one particular jurisdiction, drink containers holding one liter or less have a \\$0.1$ deposit and drink containers holding more than one liter have a $0.25$ deposit.\n",
    "Write a program that reads the number of containers of each size from the user.\n",
    "Your program should continue by computing and displaying the refund that will be received for returning those containers. Format the output so that it includes a dollar sign and always displays exactly two decimal places."
   ]
  },
  {
   "cell_type": "code",
   "execution_count": 17,
   "metadata": {},
   "outputs": [
    {
     "name": "stdout",
     "output_type": "stream",
     "text": [
      "Refund $23.99\n",
      "Refund $0.10\n",
      "Refund $0.25\n",
      "Refund $0.25\n",
      "Refund $0.10\n"
     ]
    }
   ],
   "source": [
    "refund = 23.98769869\n",
    "print('Refund $%.2f'% refund)\n",
    "\n",
    "bottle = [0.5, 2, 4, 1]\n",
    "\n",
    "for i in bottle:\n",
    "    if i <= 1:\n",
    "        refund = 0.1\n",
    "        print('Refund $%.2f'% refund)\n",
    "    elif i > 1:\n",
    "        refund = 0.25\n",
    "        print('Refund $%.2f'% refund)\n",
    "    else:\n",
    "        print('invalid')\n"
   ]
  },
  {
   "cell_type": "markdown",
   "metadata": {},
   "source": [
    "## Exercise 2: Admission Price\n",
    "\n",
    "A particular zoo determines the price of admission based on the age of the guest. Guests 2 years of age and less are admitted without charge. Children between 3 and 12 years of age cost \\$14.00$. Seniors aged 65 years and over cost \\$18.00. Admission for all other guests is 23.00.\n",
    "\n",
    "Create a program that begins by reading the ages of all of the guests in a group from the user, with one age entered on each line. The user will enter a blank line to indicate that there are no more guests in the group. Then your program should display the admission cost for the group with an appropriate message. The cost should be displayed using two decimal places."
   ]
  },
  {
   "cell_type": "code",
   "execution_count": 1,
   "metadata": {
    "scrolled": true
   },
   "outputs": [
    {
     "name": "stdout",
     "output_type": "stream",
     "text": [
      "enter guest age: 2\n",
      "enter guest age: 15\n",
      "enter guest age: \n",
      "Total Admission cost for the group is $23\n"
     ]
    }
   ],
   "source": [
    "request = input(\"enter guest age: \")\n",
    "guest_age = []\n",
    "total = 0\n",
    "while request != \"\":\n",
    "    guest_age.append(int(request))    \n",
    "    request = input(\"enter guest age: \")\n",
    "for i in guest_age:\n",
    "    if i <= 2:\n",
    "        total += 0\n",
    "    elif i >= 3 and i <= 12:\n",
    "        total += 14\n",
    "    elif i >= 65:\n",
    "        total += 18\n",
    "    else:\n",
    "        total += 23\n",
    "print(f\"Total Admission cost for the group is ${total}\")"
   ]
  },
  {
   "cell_type": "markdown",
   "metadata": {},
   "source": [
    "## Exercise 3: Fizz Buzz\n",
    "\n",
    "Write a program that prints the numbers from 0 to 100. But, for multiples of three, print “Fizz” instead of the number. For multiples of five, print “Buzz”.\n",
    "For numbers which are multiples of both three and five, print “FizzBuzz”\n",
    "\n"
   ]
  },
  {
   "cell_type": "code",
   "execution_count": 2,
   "metadata": {},
   "outputs": [
    {
     "name": "stdout",
     "output_type": "stream",
     "text": [
      "#0\n",
      "#1\n",
      "#2\n",
      "Fizz\n",
      "#4\n",
      "buzz\n",
      "Fizz\n",
      "#7\n",
      "#8\n",
      "Fizz\n",
      "buzz\n",
      "#11\n",
      "Fizz\n",
      "#13\n",
      "#14\n",
      "FizzBuzz\n",
      "#16\n",
      "#17\n",
      "Fizz\n",
      "#19\n",
      "buzz\n",
      "Fizz\n",
      "#22\n",
      "#23\n",
      "Fizz\n",
      "buzz\n",
      "#26\n",
      "Fizz\n",
      "#28\n",
      "#29\n"
     ]
    }
   ],
   "source": [
    "# expected output\n",
    "m3 = 0\n",
    "m4 = 0\n",
    "\n",
    "for i in range(30):\n",
    "    if m3 == 3 and m4 == 5:\n",
    "        print(\"FizzBuzz\")\n",
    "        m3 = 0\n",
    "        m4 = 0\n",
    "    elif m3 == 3:\n",
    "        print(\"Fizz\")\n",
    "        m3 = 0\n",
    "    elif m4 == 5 :\n",
    "        print(\"buzz\")\n",
    "        m4 = 0\n",
    "    else:\n",
    "        print(f\"#{i}\")\n",
    "    m3+=1\n",
    "    m4+=1\n",
    "\n",
    "#0 \n",
    "#1 \n",
    "#2 \n",
    "#Fizz \n",
    "#4 \n",
    "#Buzz \n",
    "#5 \n",
    "#.\n",
    "#.\n",
    "#FizzBuzz\n",
    "#.\n",
    "#.\n",
    "#.\n",
    "#100"
   ]
  },
  {
   "cell_type": "markdown",
   "metadata": {},
   "source": [
    "## Exercise 4: Temperature conversion\n",
    "\n",
    "\n",
    "\n",
    "Write a function that take a deg C or Deg F and scale as input and returns what kind of temperature. The temperature grade in Kelvin scale is\n",
    "\n",
    "<ul>\n",
    "<li>temperature > 299: Too hot</li>\n",
    "<li>temperature less than equal to 299 and greater than 288: It's just right! </li>\n",
    "<li>temperature less than and equal to 288 and greater than 277: It's pretty cold!</li>\n",
    "    <li> Temp less than 277: its freezing </li>\n",
    "</ul>\n",
    "\n",
    "\n",
    "The formulas to use:\n",
    "<ul>\n",
    "<li>Celsius to Kelvin : K = °C + 273</li>\n",
    "<li>Fahrenheit to Kelvin : K = (5/9) * (°F - 32) + 273</li>\n",
    "</ul>\n"
   ]
  },
  {
   "cell_type": "code",
   "execution_count": 1,
   "metadata": {},
   "outputs": [
    {
     "name": "stdout",
     "output_type": "stream",
     "text": [
      "It's pretty cold!\n"
     ]
    }
   ],
   "source": [
    "def convert_temp(temp, scale):\n",
    "    # code here\n",
    "    if scale == \"Fahrenheit\":\n",
    "        temp = (5/9)*(temp -32) + 273\n",
    "    elif scale == \"Celcius\":\n",
    "        temp = temp + 273\n",
    "    \n",
    "    if temp > 299:\n",
    "        print(\"Too Hot\")\n",
    "    elif temp <= 299 and temp >288:\n",
    "        print(\"It's just right!\")\n",
    "    elif temp <= 288 and temp > 277:\n",
    "        print(\"It's pretty cold!\")\n",
    "    else:\n",
    "        print(\"It's freezing\")\n",
    "\n",
    "convert_temp(50,\"Fahrenheit\")"
   ]
  },
  {
   "cell_type": "code",
   "execution_count": null,
   "metadata": {},
   "outputs": [],
   "source": []
  },
  {
   "cell_type": "markdown",
   "metadata": {},
   "source": [
    "## Exercise 5: List Equality\n",
    "Write a function, \"check_list_equality\", that takes in two lists, \"first_list\" and \"second_list\", as parameters. Your function should return True if the two lists contain the same elements in the same order. Otherwise, it returns False."
   ]
  },
  {
   "cell_type": "code",
   "execution_count": 22,
   "metadata": {},
   "outputs": [],
   "source": [
    "def check_list_equality(first_list, second_list):\n",
    "    #Write code here\n",
    "    if first_list == second_list:\n",
    "        return True\n",
    "    else :\n",
    "        return False\n",
    "    pass"
   ]
  },
  {
   "cell_type": "code",
   "execution_count": 23,
   "metadata": {},
   "outputs": [
    {
     "name": "stdout",
     "output_type": "stream",
     "text": [
      "True\n"
     ]
    }
   ],
   "source": [
    "list_one = [1, 2, 3]\n",
    "list_two = [1, 2, 3]\n",
    "list_three = [3, 2, 1]\n",
    "print(check_list_equality(list_one, list_two))"
   ]
  },
  {
   "cell_type": "code",
   "execution_count": 24,
   "metadata": {},
   "outputs": [
    {
     "name": "stdout",
     "output_type": "stream",
     "text": [
      "False\n"
     ]
    }
   ],
   "source": [
    "print(check_list_equality(list_one, list_three))"
   ]
  }
 ],
 "metadata": {
  "kernelspec": {
   "display_name": "Python 3 (ipykernel)",
   "language": "python",
   "name": "python3"
  },
  "language_info": {
   "codemirror_mode": {
    "name": "ipython",
    "version": 3
   },
   "file_extension": ".py",
   "mimetype": "text/x-python",
   "name": "python",
   "nbconvert_exporter": "python",
   "pygments_lexer": "ipython3",
   "version": "3.9.5"
  }
 },
 "nbformat": 4,
 "nbformat_minor": 4
}
